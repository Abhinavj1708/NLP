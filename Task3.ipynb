{
 "cells": [
  {
   "cell_type": "markdown",
   "id": "22efc0d4",
   "metadata": {},
   "source": [
    "## Details:13-01-2023\n",
    "## Topic: Simple Text Classification and Task-Tweet Tokenizer"
   ]
  },
  {
   "cell_type": "code",
   "execution_count": 2,
   "id": "b09488c0",
   "metadata": {},
   "outputs": [],
   "source": [
    "#shorturl.at/cQSX3\n",
    "#For Task 4"
   ]
  },
  {
   "cell_type": "code",
   "execution_count": 3,
   "id": "37c06a65",
   "metadata": {},
   "outputs": [
    {
     "data": {
      "text/plain": [
       "{'last_letter': 'n'}"
      ]
     },
     "execution_count": 3,
     "metadata": {},
     "output_type": "execute_result"
    }
   ],
   "source": [
    "def gender_features(word):\n",
    "    return{'last_letter':word [-1]}\n",
    "gender_features('Winston')"
   ]
  },
  {
   "cell_type": "code",
   "execution_count": 4,
   "id": "1f161152",
   "metadata": {},
   "outputs": [
    {
     "name": "stderr",
     "output_type": "stream",
     "text": [
      "[nltk_data] Downloading package names to\n",
      "[nltk_data]     C:\\Users\\Asus\\AppData\\Roaming\\nltk_data...\n",
      "[nltk_data]   Package names is already up-to-date!\n"
     ]
    }
   ],
   "source": [
    "import nltk\n",
    "nltk.download('names')\n",
    "from nltk.corpus import names"
   ]
  },
  {
   "cell_type": "code",
   "execution_count": 5,
   "id": "17bf97dc",
   "metadata": {},
   "outputs": [],
   "source": [
    "from nltk.corpus import names\n",
    "labeled_names = ([(name,'male') for name in names.words('male.txt')]+ \n",
    "[(name,'female') for name in names.words ('female.txt')])"
   ]
  },
  {
   "cell_type": "code",
   "execution_count": 6,
   "id": "e6ea95d2",
   "metadata": {},
   "outputs": [],
   "source": [
    "import random \n",
    "random.shuffle(labeled_names)"
   ]
  },
  {
   "cell_type": "code",
   "execution_count": 7,
   "id": "cbd385e6",
   "metadata": {},
   "outputs": [],
   "source": [
    "featuresets = [(gender_features(n),gender) for (n,gender) in labeled_names]"
   ]
  },
  {
   "cell_type": "code",
   "execution_count": 8,
   "id": "d1fd876f",
   "metadata": {},
   "outputs": [],
   "source": [
    "train_set, test_test = featuresets[500:],featuresets[:500]"
   ]
  },
  {
   "cell_type": "code",
   "execution_count": 9,
   "id": "f54d9985",
   "metadata": {},
   "outputs": [],
   "source": [
    "import nltk\n",
    "classifier = nltk. NaiveBayesClassifier.train(train_set)\n"
   ]
  },
  {
   "cell_type": "code",
   "execution_count": 11,
   "id": "291c145a",
   "metadata": {},
   "outputs": [
    {
     "data": {
      "text/plain": [
       "'male'"
      ]
     },
     "execution_count": 11,
     "metadata": {},
     "output_type": "execute_result"
    }
   ],
   "source": [
    "classifier.classify(gender_features('David'))\n"
   ]
  },
  {
   "cell_type": "code",
   "execution_count": 12,
   "id": "751ad6d8",
   "metadata": {},
   "outputs": [
    {
     "data": {
      "text/plain": [
       "'male'"
      ]
     },
     "execution_count": 12,
     "metadata": {},
     "output_type": "execute_result"
    }
   ],
   "source": [
    "classifier.classify(gender_features ('Abhinav'))\n"
   ]
  },
  {
   "cell_type": "code",
   "execution_count": 13,
   "id": "2900a6e5",
   "metadata": {},
   "outputs": [
    {
     "name": "stdout",
     "output_type": "stream",
     "text": [
      "0.782\n"
     ]
    }
   ],
   "source": [
    "print(nltk.classify.accuracy(classifier, test_test)) #74%-accuracy"
   ]
  },
  {
   "cell_type": "markdown",
   "id": "13b99deb",
   "metadata": {},
   "source": [
    "## Task-Tweet Tokenizer"
   ]
  },
  {
   "cell_type": "code",
   "execution_count": 14,
   "id": "f059f163",
   "metadata": {},
   "outputs": [],
   "source": [
    "import nltk"
   ]
  },
  {
   "cell_type": "code",
   "execution_count": 15,
   "id": "a6b49785",
   "metadata": {},
   "outputs": [
    {
     "data": {
      "text/plain": [
       "['The', 'Party', 'was', 'soooo', 'fun', '😀', '#superfun']"
      ]
     },
     "execution_count": 15,
     "metadata": {},
     "output_type": "execute_result"
    }
   ],
   "source": [
    "from nltk.tokenize import TweetTokenizer\n",
    "text = 'The Party was soooo fun 😀 #superfun'\n",
    "twtkn = TweetTokenizer()\n",
    "twtkn.tokenize(text)"
   ]
  },
  {
   "cell_type": "markdown",
   "id": "ca260d53",
   "metadata": {},
   "source": [
    "## Task:COCA-Corpus of Contemporary American English"
   ]
  },
  {
   "cell_type": "code",
   "execution_count": 16,
   "id": "3598940e",
   "metadata": {},
   "outputs": [],
   "source": [
    "# OBAMA and MICHAEL JORDAN\n",
    "# https://www.english-corpora.org/coca/\n",
    "# Explored the different Tabs Search, Chart etc."
   ]
  },
  {
   "cell_type": "code",
   "execution_count": 18,
   "id": "eaf3c69c",
   "metadata": {},
   "outputs": [],
   "source": [
    "# Donald Trump \n",
    "# 1. Frequency -> 24173\n",
    "\n",
    "\n",
    "# 2. CHART\n",
    "# Yearwise : \n",
    "# Group Year: Highest frequency- 2015-19 having FREQ:22038; Words(M):122.8; PER MIL:179.53\n",
    "# Subyear(2015-19): Highest frequency- 2016 having FREQ:9447; Words(M):23.7; PER MIL:398.68\n",
    "# (it is because he was chosen as president in the US )\n",
    "\n",
    "# Media wise :\n",
    "# Section: Highest frequency- SPOK having FREQ:15618; Words(M):126.1; PER MIL:123.82\n",
    "# Subsection(SPOK): Highest frequency- FOX having FREQ:4576; Words(M):12.2; PER MIL:376.44\n",
    "\n",
    "\n",
    "# 3. Collocate\n",
    "# Three on the left\n",
    "# i) PRESIDENT: FREQ: 2757; ALL:527979; %:0.52; MI:6.16\n",
    "# ii) PRESIDENT-ELECT: FREQ:396 ; ALL:5193 ; %:7.63 ; MI:10.03\n",
    "# iii) REPUBLICAN: FREQ:336 ; ALL:124535 ; %:0.27 ; MI:5.21\n",
    "# etc...\n",
    "\n",
    "# Three on the right\n",
    "# i) JR: FREQ: 479; ALL:40251; %:1.19; MI:7.35\n",
    "# ii) PRESIDENT: FREQ:327 ; ALL:527979 ; %:0.06 ; MI:3.08\n",
    "# iii) CAMPAIGN: FREQ:136 ; ALL:144598 ; %:0.09 ; MI:3.69\n",
    "# etc..."
   ]
  },
  {
   "cell_type": "code",
   "execution_count": null,
   "id": "834ae615",
   "metadata": {},
   "outputs": [],
   "source": []
  }
 ],
 "metadata": {
  "kernelspec": {
   "display_name": "Python 3 (ipykernel)",
   "language": "python",
   "name": "python3"
  },
  "language_info": {
   "codemirror_mode": {
    "name": "ipython",
    "version": 3
   },
   "file_extension": ".py",
   "mimetype": "text/x-python",
   "name": "python",
   "nbconvert_exporter": "python",
   "pygments_lexer": "ipython3",
   "version": "3.9.7"
  }
 },
 "nbformat": 4,
 "nbformat_minor": 5
}
